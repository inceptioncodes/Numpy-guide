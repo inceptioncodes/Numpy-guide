{
 "cells": [
  {
   "cell_type": "markdown",
   "id": "7bb51236",
   "metadata": {},
   "source": [
    "## Numpy array and basics\n",
    "\n",
    "### learn about numpy"
   ]
  },
  {
   "cell_type": "code",
   "execution_count": 2,
   "id": "21fe9c0f",
   "metadata": {},
   "outputs": [],
   "source": [
    "import numpy as np"
   ]
  },
  {
   "cell_type": "code",
   "execution_count": 6,
   "id": "2d83d31a",
   "metadata": {},
   "outputs": [
    {
     "name": "stdout",
     "output_type": "stream",
     "text": [
      "[1 2 3]\n",
      "[2 4 6]\n",
      "[1, 2, 3]\n",
      "[1, 2, 3, 1, 2, 3]\n"
     ]
    }
   ],
   "source": [
    "arr_1 = np.array([1,2,3])\n",
    "print(arr_1)\n",
    "print(arr_1*2)\n",
    "\n",
    "list_1 = [1,2,3]\n",
    "print(list_1)\n",
    "print(list_1*2)"
   ]
  },
  {
   "cell_type": "code",
   "execution_count": null,
   "id": "f991ca4f",
   "metadata": {},
   "outputs": [
    {
     "name": "stdout",
     "output_type": "stream",
     "text": [
      "list operation time:  0.006793975830078125\n",
      "array operation time:  0.002853870391845703\n"
     ]
    }
   ],
   "source": [
    "import time\n",
    "\n",
    "start = time.time()\n",
    "py_list = [i*2 for  i in range(100000)]\n",
    "print(\"list operation time: \",time.time() - start)\n",
    "\n",
    "start = time.time()\n",
    "py_array = np.arange(100000) * 2\n",
    "print(\"array operation time: \",time.time() - start)"
   ]
  },
  {
   "cell_type": "markdown",
   "id": "2c11a26b",
   "metadata": {},
   "source": [
    "### creating array from scratch"
   ]
  },
  {
   "cell_type": "code",
   "execution_count": 15,
   "id": "bae6026d",
   "metadata": {},
   "outputs": [
    {
     "name": "stdout",
     "output_type": "stream",
     "text": [
      "zeros array:\n",
      " [[0. 0. 0. 0.]\n",
      " [0. 0. 0. 0.]\n",
      " [0. 0. 0. 0.]]\n",
      "ones array:\n",
      " [[1. 1. 1. 1.]\n",
      " [1. 1. 1. 1.]\n",
      " [1. 1. 1. 1.]\n",
      " [1. 1. 1. 1.]]\n",
      "full array:\n",
      " [[5 5]\n",
      " [5 5]]\n",
      "random array:\n",
      " [[0.42570491 0.43238286 0.74443382]\n",
      " [0.83746255 0.77908026 0.82128928]]\n",
      "sequence array:  [0 2 4 6 8]\n"
     ]
    }
   ],
   "source": [
    "zeros = np.zeros((3,4))\n",
    "print(\"zeros array:\\n\",zeros)\n",
    "\n",
    "ones = np.ones((4,4))\n",
    "print(\"ones array:\\n\",ones)\n",
    "\n",
    "full = np.full((2,2),5)\n",
    "print(\"full array:\\n\",full)\n",
    "\n",
    "random = np.random.random((2,3))\n",
    "print(\"random array:\\n\",random)\n",
    "# random always returns value between 0 and 1\n",
    "\n",
    "sequence = np.arange(0, 10, 2)\n",
    "print(\"sequence array: \",sequence)\n"
   ]
  },
  {
   "cell_type": "markdown",
   "id": "530f1021",
   "metadata": {},
   "source": [
    "### Vector, Matrices and Tensor"
   ]
  },
  {
   "cell_type": "code",
   "execution_count": 20,
   "id": "7cdb82ce",
   "metadata": {},
   "outputs": [
    {
     "name": "stdout",
     "output_type": "stream",
     "text": [
      "vector:  [1 2 3]\n",
      "Matrices:\n",
      " [[1 2 3]\n",
      " [4 5 6]]\n",
      "Tensor:\n",
      " [[[1 2]\n",
      "  [3 4]]\n",
      "\n",
      " [[5 6]\n",
      "  [7 8]]]\n"
     ]
    }
   ],
   "source": [
    "vector = np.array([1,2,3])\n",
    "print(\"vector: \",vector)\n",
    "\n",
    "matrices = np.array([[1,2,3],\n",
    "                     [4,5,6]])\n",
    "print(\"Matrices:\\n\",matrices)\n",
    "\n",
    "tensor = np.array([[[1,2],[3,4]],\n",
    "                   [[5,6],[7,8]]])\n",
    "print(\"Tensor:\\n\",tensor)"
   ]
  },
  {
   "cell_type": "markdown",
   "id": "def89c69",
   "metadata": {},
   "source": [
    "### Array properties"
   ]
  },
  {
   "cell_type": "code",
   "execution_count": 22,
   "id": "8f5e2cf6",
   "metadata": {},
   "outputs": [
    {
     "name": "stdout",
     "output_type": "stream",
     "text": [
      "Shape: (2, 3)\n",
      "Dimension:  2\n",
      "Size:  6\n",
      "Data Type:  int64\n"
     ]
    }
   ],
   "source": [
    "arr = np.array([[1,2,3],[4,5,6]])\n",
    "print(\"Shape:\",arr.shape)\n",
    "print(\"Dimension: \",arr.ndim)\n",
    "print(\"Size: \",arr.size)\n",
    "print(\"Data Type: \",arr.dtype)\n",
    "\n",
    "# we can store multiple data types but we store similar type data types in a array."
   ]
  },
  {
   "cell_type": "markdown",
   "id": "97970495",
   "metadata": {},
   "source": [
    "### Array reshaping"
   ]
  },
  {
   "cell_type": "code",
   "execution_count": 30,
   "id": "551f4739",
   "metadata": {},
   "outputs": [
    {
     "name": "stdout",
     "output_type": "stream",
     "text": [
      "Original array:\n",
      " [ 0  1  2  3  4  5  6  7  8  9 10 11]\n",
      "\n",
      "Reshaped Array:\n",
      " [[ 0  1  2  3]\n",
      " [ 4  5  6  7]\n",
      " [ 8  9 10 11]]\n",
      "\n",
      "flattened array:\n",
      " [ 0  1  2  3  4  5  6  7  8  9 10 11]\n",
      "\n",
      "Raveled array:\n",
      " [ 0  1  2  3  4  5  6  7  8  9 10 11]\n",
      "\n",
      "Transposed array:\n",
      " [[ 0  4  8]\n",
      " [ 1  5  9]\n",
      " [ 2  6 10]\n",
      " [ 3  7 11]]\n"
     ]
    }
   ],
   "source": [
    "arr = np.arange(12)\n",
    "print(\"Original array:\\n\",arr)\n",
    "#reshaping property\n",
    "reshaped = arr.reshape((3,4))\n",
    "print(\"\\nReshaped Array:\\n\",reshaped)\n",
    "#flatten property\n",
    "flattened = reshaped.flatten()\n",
    "print(\"\\nflattened array:\\n\",flattened)\n",
    "#ravel property(return view, instead of copy)\n",
    "raveled = reshaped.ravel()\n",
    "print(\"\\nRaveled array:\\n\",raveled)\n",
    "#transpose\n",
    "transposed = reshaped.T\n",
    "print(\"\\nTransposed array:\\n\",transposed)\n",
    "\n"
   ]
  }
 ],
 "metadata": {
  "kernelspec": {
   "display_name": "venv (3.12.3)",
   "language": "python",
   "name": "python3"
  },
  "language_info": {
   "codemirror_mode": {
    "name": "ipython",
    "version": 3
   },
   "file_extension": ".py",
   "mimetype": "text/x-python",
   "name": "python",
   "nbconvert_exporter": "python",
   "pygments_lexer": "ipython3",
   "version": "3.12.3"
  }
 },
 "nbformat": 4,
 "nbformat_minor": 5
}

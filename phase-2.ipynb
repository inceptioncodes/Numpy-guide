{
 "cells": [
  {
   "cell_type": "markdown",
   "id": "ea2be602",
   "metadata": {},
   "source": [
    "# Numpy Array Operations"
   ]
  },
  {
   "cell_type": "code",
   "execution_count": 2,
   "id": "fa4f22b3",
   "metadata": {},
   "outputs": [],
   "source": [
    "import numpy as np"
   ]
  },
  {
   "cell_type": "code",
   "execution_count": 5,
   "id": "86b5cbd1",
   "metadata": {},
   "outputs": [
    {
     "name": "stdout",
     "output_type": "stream",
     "text": [
      "Array:\n",
      " [ 1  2  3  4  5  6  7  8  9 10]\n",
      "array slicing:\n",
      " [3 4 5 6 7]\n",
      "with step:\n",
      " [2 4 6 8]\n",
      "Negative indexing:\n",
      " 5\n"
     ]
    }
   ],
   "source": [
    "arr = np.array([1,2,3,4,5,6,7,8,9,10])\n",
    "print(\"Array:\\n\",arr)\n",
    "print(\"array slicing:\\n\",arr[2:7])\n",
    "print(\"with step:\\n\",arr[1:8:2])\n",
    "print(\"Negative indexing:\\n\",arr[-6])\n"
   ]
  },
  {
   "cell_type": "code",
   "execution_count": 7,
   "id": "4ce6686c",
   "metadata": {},
   "outputs": [
    {
     "name": "stdout",
     "output_type": "stream",
     "text": [
      "Array:\n",
      " [[1 2 3]\n",
      " [4 5 6]\n",
      " [7 8 9]]\n",
      "Specific element:  9\n",
      "Entire row:  [7 8 9]\n",
      "Entire coloumn:  [3 6 9]\n"
     ]
    }
   ],
   "source": [
    "arr_2d = np.array([[1,2,3],\n",
    "                   [4,5,6],\n",
    "                   [7,8,9]])\n",
    "print(\"Array:\\n\",arr_2d)\n",
    "print(\"Specific element: \",arr_2d[2,2])\n",
    "print(\"Entire row: \",arr_2d[2])\n",
    "print(\"Entire coloumn: \",arr_2d[:,2])"
   ]
  },
  {
   "cell_type": "markdown",
   "id": "7ea06324",
   "metadata": {},
   "source": [
    "## Sorting"
   ]
  },
  {
   "cell_type": "code",
   "execution_count": null,
   "id": "47f1080b",
   "metadata": {},
   "outputs": [
    {
     "name": "stdout",
     "output_type": "stream",
     "text": [
      "Sorted array:  [0 1 1 2 2 2 4 5 6 9]\n",
      "Sorted 2-D array:\n",
      " [[1 1]\n",
      " [2 2]\n",
      " [3 3]]\n"
     ]
    }
   ],
   "source": [
    "unsorted = np.array([1,5,6,2,4,2,1,9,0,2])\n",
    "print(\"Sorted array: \",np.sort(unsorted))\n",
    "\n",
    "arr_2d_unsorted = np.array([[3,1],[1,2],[2,3]])\n",
    "print(\"Sorted 2-D array:\\n\",np.sort(arr_2d_unsorted, axis=0))\n",
    "# axis = 0 means sorted top to bottom\n",
    "# axis = 1 means sorted row wise"
   ]
  },
  {
   "cell_type": "markdown",
   "id": "3da87cf4",
   "metadata": {},
   "source": [
    "## Filter"
   ]
  },
  {
   "cell_type": "code",
   "execution_count": 13,
   "id": "ff49c595",
   "metadata": {},
   "outputs": [
    {
     "name": "stdout",
     "output_type": "stream",
     "text": [
      "Even numbers:  [2 4 6 8 0]\n"
     ]
    }
   ],
   "source": [
    "numbers = np.array([1,2,3,4,5,6,7,8,9,0])\n",
    "even_numbers = numbers[numbers % 2 == 0]\n",
    "print(\"Even numbers: \",even_numbers)"
   ]
  },
  {
   "cell_type": "markdown",
   "id": "759740aa",
   "metadata": {},
   "source": [
    "## Filter with mask"
   ]
  },
  {
   "cell_type": "code",
   "execution_count": 14,
   "id": "4a7628f9",
   "metadata": {},
   "outputs": [
    {
     "name": "stdout",
     "output_type": "stream",
     "text": [
      "Numbers greater than 5  [6 7 8 9]\n"
     ]
    }
   ],
   "source": [
    "mask = numbers > 5\n",
    "print(\"Numbers greater than 5 \",numbers[mask])"
   ]
  },
  {
   "cell_type": "markdown",
   "id": "dc814fdf",
   "metadata": {},
   "source": [
    "## Fancy indexing vs np.where()"
   ]
  },
  {
   "cell_type": "code",
   "execution_count": 18,
   "id": "1f417737",
   "metadata": {},
   "outputs": [
    {
     "name": "stdout",
     "output_type": "stream",
     "text": [
      "[2 4 6]\n",
      "Np where : [6 7 8 9]\n"
     ]
    }
   ],
   "source": [
    "indices = [1,3,5]\n",
    "print(numbers[indices])\n",
    "\n",
    "where_result = np.where(numbers>5)\n",
    "print(\"Np where :\",numbers[where_result])"
   ]
  },
  {
   "cell_type": "code",
   "execution_count": 28,
   "id": "d371658f",
   "metadata": {},
   "outputs": [
    {
     "name": "stdout",
     "output_type": "stream",
     "text": [
      "[ 1  2  3  4  5 24 28 32 36  0]\n"
     ]
    }
   ],
   "source": [
    "condition_array = np.where(numbers > 5 , numbers*4 , numbers)\n",
    "print(condition_array)"
   ]
  },
  {
   "cell_type": "markdown",
   "id": "0a07f374",
   "metadata": {},
   "source": [
    "## Combine two array"
   ]
  },
  {
   "cell_type": "code",
   "execution_count": 29,
   "id": "2d047b13",
   "metadata": {},
   "outputs": [
    {
     "name": "stdout",
     "output_type": "stream",
     "text": [
      "Combined: [1 2 3 4 5 6]\n"
     ]
    }
   ],
   "source": [
    "arr1 = np.array([1,2,3])\n",
    "arr2 = np.array([4,5,6])\n",
    "combined_array = np.concatenate((arr1,arr2))\n",
    "print(\"Combined:\",combined_array)"
   ]
  },
  {
   "cell_type": "markdown",
   "id": "bc844a5d",
   "metadata": {},
   "source": [
    "### Array compatibility"
   ]
  },
  {
   "cell_type": "code",
   "execution_count": 31,
   "id": "3d8bb5e8",
   "metadata": {},
   "outputs": [
    {
     "name": "stdout",
     "output_type": "stream",
     "text": [
      "Compatibility shapes : False\n"
     ]
    }
   ],
   "source": [
    "a = np.array([1,2,3])\n",
    "b = np.array([4,5,6,8])\n",
    "c = np.array([7,8,9])\n",
    "\n",
    "print(\"Compatibility shapes :\",a.shape == b.shape)"
   ]
  },
  {
   "cell_type": "markdown",
   "id": "739f31b0",
   "metadata": {},
   "source": [
    "### Delete element"
   ]
  },
  {
   "cell_type": "code",
   "execution_count": 32,
   "id": "25c49b6c",
   "metadata": {},
   "outputs": [
    {
     "name": "stdout",
     "output_type": "stream",
     "text": [
      "After deletion: [1 2 3 5]\n",
      "After deletion: [1 2 4 5]\n"
     ]
    }
   ],
   "source": [
    "arr = np.array([1,2,3,4,5])\n",
    "deleted = np.delete(arr,3)\n",
    "print(\"After deletion:\",deleted)\n",
    "deleted_1 =np.delete(arr,2)\n",
    "print(\"After deletion:\",deleted_1)"
   ]
  },
  {
   "cell_type": "markdown",
   "id": "83f46612",
   "metadata": {},
   "source": [
    "### Adding new row and col"
   ]
  },
  {
   "cell_type": "code",
   "execution_count": null,
   "id": "f958deca",
   "metadata": {},
   "outputs": [
    {
     "name": "stdout",
     "output_type": "stream",
     "text": [
      "Final:\n",
      " [[1 2 3]\n",
      " [4 5 6]\n",
      " [7 8 9]\n",
      " [1 7 0]]\n",
      "Final:\n",
      " [[1 2 3 2]\n",
      " [4 5 6 3]\n",
      " [7 8 9 7]]\n"
     ]
    }
   ],
   "source": [
    "arr_2d = np.array([[1,2,3],\n",
    "                   [4,5,6],\n",
    "                   [7,8,9]])\n",
    "# add row\n",
    "new_row = np.array([1,7,0])\n",
    "final_arr = np.vstack((arr_2d,new_row))\n",
    "print(\"Final:\\n\",final_arr)\n",
    "# add col\n",
    "new_col= np.array([[2],[3],[7]])\n",
    "final_arr_1 = np.hstack((arr_2d,new_col))\n",
    "print(\"Final:\\n\",final_arr_1)\n"
   ]
  }
 ],
 "metadata": {
  "kernelspec": {
   "display_name": "venv (3.12.3)",
   "language": "python",
   "name": "python3"
  },
  "language_info": {
   "codemirror_mode": {
    "name": "ipython",
    "version": 3
   },
   "file_extension": ".py",
   "mimetype": "text/x-python",
   "name": "python",
   "nbconvert_exporter": "python",
   "pygments_lexer": "ipython3",
   "version": "3.12.3"
  }
 },
 "nbformat": 4,
 "nbformat_minor": 5
}
